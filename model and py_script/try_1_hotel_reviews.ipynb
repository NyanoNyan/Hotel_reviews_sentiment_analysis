{
 "cells": [
  {
   "cell_type": "code",
   "execution_count": 1,
   "metadata": {},
   "outputs": [],
   "source": [
    "import pandas as pd\n",
    "import numpy as np\n",
    "import csv\n",
    "import matplotlib.pyplot as plt\n",
    "\n",
    "import tensorflow as tf\n",
    "from tensorflow.keras.preprocessing.text import Tokenizer\n",
    "from tensorflow.keras.preprocessing.sequence import pad_sequences\n",
    "from sklearn.model_selection import train_test_split"
   ]
  },
  {
   "cell_type": "code",
   "execution_count": 2,
   "metadata": {},
   "outputs": [],
   "source": [
    "path='/notebooks/storage/personal_data/hotel_review/train.csv'"
   ]
  },
  {
   "cell_type": "code",
   "execution_count": 3,
   "metadata": {},
   "outputs": [
    {
     "name": "stderr",
     "output_type": "stream",
     "text": [
      "Skipping line 30945: unexpected end of data\n"
     ]
    }
   ],
   "source": [
    "df = pd.read_csv(path, encoding='utf-8',engine='python',error_bad_lines=False)"
   ]
  },
  {
   "cell_type": "code",
   "execution_count": 4,
   "metadata": {},
   "outputs": [
    {
     "data": {
      "text/html": [
       "<div>\n",
       "<style scoped>\n",
       "    .dataframe tbody tr th:only-of-type {\n",
       "        vertical-align: middle;\n",
       "    }\n",
       "\n",
       "    .dataframe tbody tr th {\n",
       "        vertical-align: top;\n",
       "    }\n",
       "\n",
       "    .dataframe thead th {\n",
       "        text-align: right;\n",
       "    }\n",
       "</style>\n",
       "<table border=\"1\" class=\"dataframe\">\n",
       "  <thead>\n",
       "    <tr style=\"text-align: right;\">\n",
       "      <th></th>\n",
       "      <th>User_ID</th>\n",
       "      <th>Description</th>\n",
       "      <th>Browser_Used</th>\n",
       "      <th>Device_Used</th>\n",
       "      <th>Is_Response</th>\n",
       "    </tr>\n",
       "  </thead>\n",
       "  <tbody>\n",
       "    <tr>\n",
       "      <th>0</th>\n",
       "      <td>id10326</td>\n",
       "      <td>The room was kind of clean but had a VERY stro...</td>\n",
       "      <td>Edge</td>\n",
       "      <td>Mobile</td>\n",
       "      <td>not happy</td>\n",
       "    </tr>\n",
       "    <tr>\n",
       "      <th>1</th>\n",
       "      <td>id10327</td>\n",
       "      <td>I stayed at the Crown Plaza April -- - April -...</td>\n",
       "      <td>Internet Explorer</td>\n",
       "      <td>Mobile</td>\n",
       "      <td>not happy</td>\n",
       "    </tr>\n",
       "    <tr>\n",
       "      <th>2</th>\n",
       "      <td>id10328</td>\n",
       "      <td>I booked this hotel through Hotwire at the low...</td>\n",
       "      <td>Mozilla</td>\n",
       "      <td>Tablet</td>\n",
       "      <td>not happy</td>\n",
       "    </tr>\n",
       "    <tr>\n",
       "      <th>3</th>\n",
       "      <td>id10329</td>\n",
       "      <td>Stayed here with husband and sons on the way t...</td>\n",
       "      <td>InternetExplorer</td>\n",
       "      <td>Desktop</td>\n",
       "      <td>happy</td>\n",
       "    </tr>\n",
       "    <tr>\n",
       "      <th>4</th>\n",
       "      <td>id10330</td>\n",
       "      <td>My girlfriends and I stayed here to celebrate ...</td>\n",
       "      <td>Edge</td>\n",
       "      <td>Tablet</td>\n",
       "      <td>not happy</td>\n",
       "    </tr>\n",
       "  </tbody>\n",
       "</table>\n",
       "</div>"
      ],
      "text/plain": [
       "   User_ID                                        Description  \\\n",
       "0  id10326  The room was kind of clean but had a VERY stro...   \n",
       "1  id10327  I stayed at the Crown Plaza April -- - April -...   \n",
       "2  id10328  I booked this hotel through Hotwire at the low...   \n",
       "3  id10329  Stayed here with husband and sons on the way t...   \n",
       "4  id10330  My girlfriends and I stayed here to celebrate ...   \n",
       "\n",
       "        Browser_Used Device_Used Is_Response  \n",
       "0               Edge      Mobile   not happy  \n",
       "1  Internet Explorer      Mobile   not happy  \n",
       "2            Mozilla      Tablet   not happy  \n",
       "3   InternetExplorer     Desktop       happy  \n",
       "4               Edge      Tablet   not happy  "
      ]
     },
     "execution_count": 4,
     "metadata": {},
     "output_type": "execute_result"
    }
   ],
   "source": [
    "df.head()"
   ]
  },
  {
   "cell_type": "code",
   "execution_count": 5,
   "metadata": {},
   "outputs": [
    {
     "name": "stdout",
     "output_type": "stream",
     "text": [
      "<class 'pandas.core.frame.DataFrame'>\n",
      "RangeIndex: 30943 entries, 0 to 30942\n",
      "Data columns (total 5 columns):\n",
      " #   Column        Non-Null Count  Dtype \n",
      "---  ------        --------------  ----- \n",
      " 0   User_ID       30943 non-null  object\n",
      " 1   Description   30943 non-null  object\n",
      " 2   Browser_Used  30943 non-null  object\n",
      " 3   Device_Used   30943 non-null  object\n",
      " 4   Is_Response   30943 non-null  object\n",
      "dtypes: object(5)\n",
      "memory usage: 1.2+ MB\n"
     ]
    }
   ],
   "source": [
    "df.info()"
   ]
  },
  {
   "cell_type": "code",
   "execution_count": 6,
   "metadata": {},
   "outputs": [
    {
     "data": {
      "text/plain": [
       "happy        21109\n",
       "not happy     9834\n",
       "Name: Is_Response, dtype: int64"
      ]
     },
     "execution_count": 6,
     "metadata": {},
     "output_type": "execute_result"
    }
   ],
   "source": [
    "df.Is_Response.value_counts()"
   ]
  },
  {
   "cell_type": "code",
   "execution_count": 7,
   "metadata": {},
   "outputs": [],
   "source": [
    "def change_response(data):\n",
    "    if data == 'not happy':\n",
    "        return 0\n",
    "    else:\n",
    "        return 1"
   ]
  },
  {
   "cell_type": "code",
   "execution_count": 8,
   "metadata": {},
   "outputs": [],
   "source": [
    "df.drop(columns=['User_ID','Browser_Used','Device_Used'], inplace=True)"
   ]
  },
  {
   "cell_type": "code",
   "execution_count": 9,
   "metadata": {},
   "outputs": [],
   "source": [
    "df['Is_Response'] = df['Is_Response'].apply(lambda x: change_response(x))"
   ]
  },
  {
   "cell_type": "code",
   "execution_count": 10,
   "metadata": {},
   "outputs": [
    {
     "data": {
      "text/html": [
       "<div>\n",
       "<style scoped>\n",
       "    .dataframe tbody tr th:only-of-type {\n",
       "        vertical-align: middle;\n",
       "    }\n",
       "\n",
       "    .dataframe tbody tr th {\n",
       "        vertical-align: top;\n",
       "    }\n",
       "\n",
       "    .dataframe thead th {\n",
       "        text-align: right;\n",
       "    }\n",
       "</style>\n",
       "<table border=\"1\" class=\"dataframe\">\n",
       "  <thead>\n",
       "    <tr style=\"text-align: right;\">\n",
       "      <th></th>\n",
       "      <th>Description</th>\n",
       "      <th>Is_Response</th>\n",
       "    </tr>\n",
       "  </thead>\n",
       "  <tbody>\n",
       "    <tr>\n",
       "      <th>0</th>\n",
       "      <td>The room was kind of clean but had a VERY stro...</td>\n",
       "      <td>0</td>\n",
       "    </tr>\n",
       "    <tr>\n",
       "      <th>1</th>\n",
       "      <td>I stayed at the Crown Plaza April -- - April -...</td>\n",
       "      <td>0</td>\n",
       "    </tr>\n",
       "    <tr>\n",
       "      <th>2</th>\n",
       "      <td>I booked this hotel through Hotwire at the low...</td>\n",
       "      <td>0</td>\n",
       "    </tr>\n",
       "    <tr>\n",
       "      <th>3</th>\n",
       "      <td>Stayed here with husband and sons on the way t...</td>\n",
       "      <td>1</td>\n",
       "    </tr>\n",
       "    <tr>\n",
       "      <th>4</th>\n",
       "      <td>My girlfriends and I stayed here to celebrate ...</td>\n",
       "      <td>0</td>\n",
       "    </tr>\n",
       "  </tbody>\n",
       "</table>\n",
       "</div>"
      ],
      "text/plain": [
       "                                         Description  Is_Response\n",
       "0  The room was kind of clean but had a VERY stro...            0\n",
       "1  I stayed at the Crown Plaza April -- - April -...            0\n",
       "2  I booked this hotel through Hotwire at the low...            0\n",
       "3  Stayed here with husband and sons on the way t...            1\n",
       "4  My girlfriends and I stayed here to celebrate ...            0"
      ]
     },
     "execution_count": 10,
     "metadata": {},
     "output_type": "execute_result"
    }
   ],
   "source": [
    "df.head()"
   ]
  },
  {
   "cell_type": "code",
   "execution_count": 11,
   "metadata": {},
   "outputs": [],
   "source": [
    "X_train,X_test,y_train,y_test=train_test_split(df['Description'],df['Is_Response'].values,test_size=0.20)"
   ]
  },
  {
   "cell_type": "code",
   "execution_count": 12,
   "metadata": {},
   "outputs": [],
   "source": [
    "vocab_size = 500\n",
    "embedding_dim = 16\n",
    "max_length = 50\n",
    "trunc_type='post'\n",
    "padding_type='post'\n",
    "oov_tok = \"<OOV>\""
   ]
  },
  {
   "cell_type": "code",
   "execution_count": 13,
   "metadata": {},
   "outputs": [],
   "source": [
    "tokenizer = Tokenizer(num_words = vocab_size, oov_token=oov_tok)\n",
    "tokenizer.fit_on_texts(X_train)\n",
    "word_index = tokenizer.word_index\n",
    "\n",
    "training_sequences = tokenizer.texts_to_sequences(X_train)\n",
    "training_padded = pad_sequences(training_sequences,maxlen=max_length, \n",
    "                                truncating=trunc_type, padding=padding_type)\n",
    "\n",
    "validation_sequences = tokenizer.texts_to_sequences(X_test)\n",
    "validation_padded = pad_sequences(validation_sequences,maxlen=max_length)\n",
    "\n",
    "training_labels_final = np.array(y_train)\n",
    "validation_labels_final = np.array(y_test)"
   ]
  },
  {
   "cell_type": "code",
   "execution_count": 14,
   "metadata": {},
   "outputs": [],
   "source": [
    "# class ResetStatesCallback(keras.callbacks.Callback):\n",
    "#     def on_epoch_begin(self, epoch, logs):\n",
    "#         self.model.reset_states()\n",
    "\n",
    "# lr_schedule = keras.callbacks.LearningRateScheduler(\n",
    "#     lambda epoch: 1e-8 * 10**(epoch / 20))\n",
    "# reset_states = ResetStatesCallback()"
   ]
  },
  {
   "cell_type": "code",
   "execution_count": null,
   "metadata": {},
   "outputs": [],
   "source": []
  },
  {
   "cell_type": "code",
   "execution_count": 15,
   "metadata": {},
   "outputs": [
    {
     "name": "stdout",
     "output_type": "stream",
     "text": [
      "Model: \"sequential\"\n",
      "_________________________________________________________________\n",
      "Layer (type)                 Output Shape              Param #   \n",
      "=================================================================\n",
      "embedding (Embedding)        (None, 50, 16)            8000      \n",
      "_________________________________________________________________\n",
      "global_average_pooling1d (Gl (None, 16)                0         \n",
      "_________________________________________________________________\n",
      "dropout (Dropout)            (None, 16)                0         \n",
      "_________________________________________________________________\n",
      "dense (Dense)                (None, 20)                340       \n",
      "_________________________________________________________________\n",
      "dropout_1 (Dropout)          (None, 20)                0         \n",
      "_________________________________________________________________\n",
      "dense_1 (Dense)              (None, 10)                210       \n",
      "_________________________________________________________________\n",
      "dropout_2 (Dropout)          (None, 10)                0         \n",
      "_________________________________________________________________\n",
      "dense_2 (Dense)              (None, 1)                 11        \n",
      "=================================================================\n",
      "Total params: 8,561\n",
      "Trainable params: 8,561\n",
      "Non-trainable params: 0\n",
      "_________________________________________________________________\n"
     ]
    }
   ],
   "source": [
    "model = tf.keras.Sequential([\n",
    "    tf.keras.layers.Embedding(vocab_size, embedding_dim, input_length=max_length),\n",
    "    tf.keras.layers.GlobalAveragePooling1D(),\n",
    "    tf.keras.layers.Dropout(0.4),\n",
    "    tf.keras.layers.Dense(20, activation='relu'),\n",
    "    tf.keras.layers.Dropout(0.4),\n",
    "    tf.keras.layers.Dense(10, activation='relu'),\n",
    "    tf.keras.layers.Dropout(0.4),\n",
    "    tf.keras.layers.Dense(1, activation='sigmoid')\n",
    "])\n",
    "model.compile(loss='binary_crossentropy',\n",
    "              optimizer= tf.keras.optimizers.Adam(learning_rate=0.001),\n",
    "              metrics=['accuracy'])\n",
    "model.summary()"
   ]
  },
  {
   "cell_type": "code",
   "execution_count": 16,
   "metadata": {},
   "outputs": [],
   "source": [
    "# history = model.fit(training_padded, epochs=100,\n",
    "#                     callbacks=[lr_schedule, reset_states])"
   ]
  },
  {
   "cell_type": "code",
   "execution_count": 17,
   "metadata": {},
   "outputs": [
    {
     "name": "stdout",
     "output_type": "stream",
     "text": [
      "Epoch 1/20\n",
      "774/774 [==============================] - 1s 2ms/step - loss: 0.5719 - accuracy: 0.7023 - val_loss: 0.4809 - val_accuracy: 0.7662\n",
      "Epoch 2/20\n",
      "774/774 [==============================] - 1s 2ms/step - loss: 0.4924 - accuracy: 0.7651 - val_loss: 0.4826 - val_accuracy: 0.7473\n",
      "Epoch 3/20\n",
      "774/774 [==============================] - 1s 2ms/step - loss: 0.4772 - accuracy: 0.7778 - val_loss: 0.4783 - val_accuracy: 0.7560\n",
      "Epoch 4/20\n",
      "774/774 [==============================] - 1s 2ms/step - loss: 0.4713 - accuracy: 0.7806 - val_loss: 0.4650 - val_accuracy: 0.7681\n",
      "Epoch 5/20\n",
      "774/774 [==============================] - 1s 2ms/step - loss: 0.4697 - accuracy: 0.7809 - val_loss: 0.4705 - val_accuracy: 0.7647\n",
      "Epoch 6/20\n",
      "774/774 [==============================] - 1s 2ms/step - loss: 0.4658 - accuracy: 0.7865 - val_loss: 0.4735 - val_accuracy: 0.7583\n",
      "Epoch 7/20\n",
      "774/774 [==============================] - 1s 2ms/step - loss: 0.4646 - accuracy: 0.7836 - val_loss: 0.4615 - val_accuracy: 0.7786\n",
      "Epoch 8/20\n",
      "774/774 [==============================] - 1s 2ms/step - loss: 0.4625 - accuracy: 0.7867 - val_loss: 0.4575 - val_accuracy: 0.7814\n",
      "Epoch 9/20\n",
      "774/774 [==============================] - 1s 2ms/step - loss: 0.4611 - accuracy: 0.7855 - val_loss: 0.4632 - val_accuracy: 0.7688\n",
      "Epoch 10/20\n",
      "774/774 [==============================] - 1s 2ms/step - loss: 0.4582 - accuracy: 0.7844 - val_loss: 0.4594 - val_accuracy: 0.7812\n",
      "Epoch 11/20\n",
      "774/774 [==============================] - 1s 2ms/step - loss: 0.4588 - accuracy: 0.7893 - val_loss: 0.4604 - val_accuracy: 0.7770\n",
      "Epoch 12/20\n",
      "774/774 [==============================] - 1s 2ms/step - loss: 0.4556 - accuracy: 0.7910 - val_loss: 0.4612 - val_accuracy: 0.7749\n",
      "Epoch 13/20\n",
      "774/774 [==============================] - 1s 2ms/step - loss: 0.4563 - accuracy: 0.7860 - val_loss: 0.4685 - val_accuracy: 0.7696\n",
      "Epoch 14/20\n",
      "774/774 [==============================] - 1s 2ms/step - loss: 0.4521 - accuracy: 0.7910 - val_loss: 0.4649 - val_accuracy: 0.7757\n",
      "Epoch 15/20\n",
      "774/774 [==============================] - 1s 2ms/step - loss: 0.4543 - accuracy: 0.7881 - val_loss: 0.4605 - val_accuracy: 0.7794\n",
      "Epoch 16/20\n",
      "774/774 [==============================] - 1s 2ms/step - loss: 0.4540 - accuracy: 0.7885 - val_loss: 0.4627 - val_accuracy: 0.7785\n",
      "Epoch 17/20\n",
      "774/774 [==============================] - 1s 2ms/step - loss: 0.4533 - accuracy: 0.7906 - val_loss: 0.4679 - val_accuracy: 0.7775\n",
      "Epoch 18/20\n",
      "774/774 [==============================] - 1s 2ms/step - loss: 0.4537 - accuracy: 0.7886 - val_loss: 0.4682 - val_accuracy: 0.7736\n",
      "Epoch 19/20\n",
      "774/774 [==============================] - 1s 2ms/step - loss: 0.4494 - accuracy: 0.7879 - val_loss: 0.4672 - val_accuracy: 0.7733\n",
      "Epoch 20/20\n",
      "774/774 [==============================] - 1s 2ms/step - loss: 0.4522 - accuracy: 0.7901 - val_loss: 0.4650 - val_accuracy: 0.7777\n"
     ]
    }
   ],
   "source": [
    "num_epochs = 20\n",
    "history = model.fit(training_padded, training_labels_final, epochs=num_epochs,\n",
    "                    validation_data=(validation_padded, validation_labels_final))"
   ]
  },
  {
   "cell_type": "code",
   "execution_count": 20,
   "metadata": {},
   "outputs": [
    {
     "data": {
      "image/png": "[encoded data removed]",
      "text/plain": [
       "<Figure size 432x288 with 1 Axes>"
      ]
     },
     "metadata": {
      "needs_background": "light"
     },
     "output_type": "display_data"
    },
    {
     "data": {
      "image/png": "[encoded data removed]",
      "text/plain": [
       "<Figure size 432x288 with 1 Axes>"
      ]
     },
     "metadata": {
      "needs_background": "light"
     },
     "output_type": "display_data"
    }
   ],
   "source": [
    "def plot_graphs(history, string):\n",
    "  plt.plot(history.history[string])\n",
    "  plt.plot(history.history['val_'+string])\n",
    "  plt.xlabel(\"Epochs\")\n",
    "  plt.ylabel(string)\n",
    "  plt.legend([string, 'val_'+string])\n",
    "  plt.show()\n",
    "  \n",
    "plot_graphs(history, \"accuracy\")\n",
    "plot_graphs(history, \"loss\")"
   ]
  },
  {
   "cell_type": "code",
   "execution_count": 23,
   "metadata": {},
   "outputs": [],
   "source": [
    "def predict_sentiment(model, reviews):\n",
    "    \n",
    "    padding_type='post'\n",
    "    sample_sequences = tokenizer.texts_to_sequences(fake_reviews)\n",
    "    fakes_padded = pad_sequences(sample_sequences, padding=padding_type, maxlen=max_length) \n",
    "    \n",
    "    classes = model.predict(fakes_padded)\n",
    "\n",
    "    # The closer the class is to 1, the more positive the review is deemed to be\n",
    "    for x in range(len(reviews)):\n",
    "      print(reviews[x])\n",
    "      print(classes[x])\n",
    "      print('\\n')"
   ]
  },
  {
   "cell_type": "code",
   "execution_count": 25,
   "metadata": {},
   "outputs": [
    {
     "name": "stdout",
     "output_type": "stream",
     "text": [
      "This is the best thing I have ever seen\n",
      "[0.8109434]\n",
      "\n",
      "\n",
      "Don't think it was all that bad, but some things clearly needs improving\n",
      "[0.23077498]\n",
      "\n",
      "\n"
     ]
    }
   ],
   "source": [
    "predict_sentiment(model, ['This is the best thing I have ever seen',\n",
    "                          \"Don't think it was all that bad, but some things clearly needs improving\"])"
   ]
  },
  {
   "cell_type": "code",
   "execution_count": 27,
   "metadata": {},
   "outputs": [],
   "source": [
    "# model.save('hotel_review.h5')"
   ]
  },
  {
   "cell_type": "code",
   "execution_count": 26,
   "metadata": {},
   "outputs": [],
   "source": [
    "# # Use the model to predict a review   \n",
    "# fake_reviews = ['I love this hotel place',\n",
    "#                'Disappointed in this hotel, it was quite bad',\n",
    "#                'This is the worst place ever seen in my life, very bad',\n",
    "#                'Disappointed in this hotel',\n",
    "#                \"The meals were lovely and the service was amazing. Can't say anything bad about this hotel.\",\n",
    "#                'This is the worst hotel I have ever seen in my life']\n",
    "\n",
    "# print(fake_reviews) \n",
    "\n",
    "# # Create the sequences\n",
    "# padding_type='post'\n",
    "# sample_sequences = tokenizer.texts_to_sequences(fake_reviews)\n",
    "# fakes_padded = pad_sequences(sample_sequences, padding=padding_type, maxlen=max_length)           \n",
    "\n",
    "# print('\\nHOT OFF THE PRESS! HERE ARE SOME NEWLY MINTED, ABSOLUTELY GENUINE REVIEWS!\\n')              \n",
    "\n",
    "# classes = model.predict(fakes_padded)\n",
    "\n",
    "# # The closer the class is to 1, the more positive the review is deemed to be\n",
    "# for x in range(len(fake_reviews)):\n",
    "#   print(fake_reviews[x])\n",
    "#   print(classes[x])\n",
    "#   print('\\n')"
   ]
  },
  {
   "cell_type": "code",
   "execution_count": null,
   "metadata": {},
   "outputs": [],
   "source": []
  },
  {
   "cell_type": "code",
   "execution_count": null,
   "metadata": {},
   "outputs": [],
   "source": []
  }
 ],
 "metadata": {
  "kernelspec": {
   "display_name": "Python 3",
   "language": "python",
   "name": "python3"
  },
  "language_info": {
   "codemirror_mode": {
    "name": "ipython",
    "version": 3
   },
   "file_extension": ".py",
   "mimetype": "text/x-python",
   "name": "python",
   "nbconvert_exporter": "python",
   "pygments_lexer": "ipython3",
   "version": "3.6.8"
  }
 },
 "nbformat": 4,
 "nbformat_minor": 4
}
